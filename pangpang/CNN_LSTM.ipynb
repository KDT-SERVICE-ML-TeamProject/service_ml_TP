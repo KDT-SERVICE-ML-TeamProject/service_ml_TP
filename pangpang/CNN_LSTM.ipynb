{
 "cells": [
  {
   "cell_type": "markdown",
   "id": "35b0beaa710e4036",
   "metadata": {
    "collapsed": false
   },
   "source": [
    "# 장르 분석 : CNN_self + LSTM lstm autoencoder\n",
    "- 프로젝트에 사용된 파일"
   ]
  },
  {
   "cell_type": "code",
   "execution_count": 1,
   "id": "9194ba7419847ba8",
   "metadata": {
    "ExecuteTime": {
     "end_time": "2024-04-04T12:13:00.144601400Z",
     "start_time": "2024-04-04T12:13:00.045768600Z"
    },
    "collapsed": false
   },
   "outputs": [],
   "source": [
    "# 모듈 로딩\n",
    "import pandas as pd\n",
    "import numpy as np\n",
    "\n",
    "from PIL import Image\n",
    "import torchvision.transforms as transforms\n",
    "from torch.utils.data import Dataset, DataLoader, random_split\n",
    "\n",
    "\n",
    "import torch\n",
    "import torch.nn as nn\n",
    "import torch.nn.functional as F\n",
    "import torch.optim as optim\n",
    "import torch.nn.init as init\n",
    "import matplotlib.pyplot as plt"
   ]
  },
  {
   "cell_type": "markdown",
   "id": "2e665d5a2538f343",
   "metadata": {
    "collapsed": false
   },
   "source": [
    "# 데이터 불러오기"
   ]
  },
  {
   "cell_type": "code",
   "execution_count": 2,
   "id": "56ee1fd646844f7b",
   "metadata": {
    "ExecuteTime": {
     "end_time": "2024-04-04T12:13:00.166742400Z",
     "start_time": "2024-04-04T12:13:00.149624100Z"
    },
    "collapsed": false
   },
   "outputs": [],
   "source": [
    "from torchvision.datasets import ImageFolder \n",
    "\n",
    "train_root = \"./spectrograms\" # 해당 경로 내에 있는 파일명이 곧 label이 되는 것\n",
    "\n",
    "preprocessing = transforms.Compose([\n",
    "    transforms.Resize((100, 100), interpolation=transforms.InterpolationMode.BILINEAR), \n",
    "    transforms.Grayscale(),\n",
    "    transforms.ToTensor(),  # 3. 값의 크기를 0~1로\n",
    "])\n",
    "\n",
    "imgDS = ImageFolder(root=train_root, transform=preprocessing)"
   ]
  },
  {
   "cell_type": "code",
   "execution_count": 3,
   "id": "8aa94dba639469bb",
   "metadata": {
    "ExecuteTime": {
     "end_time": "2024-04-04T12:13:00.217507300Z",
     "start_time": "2024-04-04T12:13:00.175609400Z"
    },
    "collapsed": false
   },
   "outputs": [
    {
     "data": {
      "text/plain": [
       "[('./spectrograms\\\\ballade\\\\ballade0.png', 0),\n",
       " ('./spectrograms\\\\ballade\\\\ballade1.png', 0),\n",
       " ('./spectrograms\\\\ballade\\\\ballade10.png', 0),\n",
       " ('./spectrograms\\\\ballade\\\\ballade11.png', 0),\n",
       " ('./spectrograms\\\\ballade\\\\ballade12.png', 0),\n",
       " ('./spectrograms\\\\ballade\\\\ballade13.png', 0),\n",
       " ('./spectrograms\\\\ballade\\\\ballade14.png', 0),\n",
       " ('./spectrograms\\\\ballade\\\\ballade15.png', 0),\n",
       " ('./spectrograms\\\\ballade\\\\ballade16.png', 0),\n",
       " ('./spectrograms\\\\ballade\\\\ballade17.png', 0),\n",
       " ('./spectrograms\\\\ballade\\\\ballade18.png', 0),\n",
       " ('./spectrograms\\\\ballade\\\\ballade19.png', 0),\n",
       " ('./spectrograms\\\\ballade\\\\ballade2.png', 0),\n",
       " ('./spectrograms\\\\ballade\\\\ballade20.png', 0),\n",
       " ('./spectrograms\\\\ballade\\\\ballade21.png', 0),\n",
       " ('./spectrograms\\\\ballade\\\\ballade22.png', 0),\n",
       " ('./spectrograms\\\\ballade\\\\ballade23.png', 0),\n",
       " ('./spectrograms\\\\ballade\\\\ballade24.png', 0),\n",
       " ('./spectrograms\\\\ballade\\\\ballade25.png', 0),\n",
       " ('./spectrograms\\\\ballade\\\\ballade26.png', 0),\n",
       " ('./spectrograms\\\\ballade\\\\ballade27.png', 0),\n",
       " ('./spectrograms\\\\ballade\\\\ballade28.png', 0),\n",
       " ('./spectrograms\\\\ballade\\\\ballade29.png', 0),\n",
       " ('./spectrograms\\\\ballade\\\\ballade3.png', 0),\n",
       " ('./spectrograms\\\\ballade\\\\ballade30.png', 0),\n",
       " ('./spectrograms\\\\ballade\\\\ballade31.png', 0),\n",
       " ('./spectrograms\\\\ballade\\\\ballade32.png', 0),\n",
       " ('./spectrograms\\\\ballade\\\\ballade33.png', 0),\n",
       " ('./spectrograms\\\\ballade\\\\ballade34.png', 0),\n",
       " ('./spectrograms\\\\ballade\\\\ballade35.png', 0),\n",
       " ('./spectrograms\\\\ballade\\\\ballade36.png', 0),\n",
       " ('./spectrograms\\\\ballade\\\\ballade37.png', 0),\n",
       " ('./spectrograms\\\\ballade\\\\ballade38.png', 0),\n",
       " ('./spectrograms\\\\ballade\\\\ballade39.png', 0),\n",
       " ('./spectrograms\\\\ballade\\\\ballade4.png', 0),\n",
       " ('./spectrograms\\\\ballade\\\\ballade40.png', 0),\n",
       " ('./spectrograms\\\\ballade\\\\ballade41.png', 0),\n",
       " ('./spectrograms\\\\ballade\\\\ballade42.png', 0),\n",
       " ('./spectrograms\\\\ballade\\\\ballade43.png', 0),\n",
       " ('./spectrograms\\\\ballade\\\\ballade44.png', 0),\n",
       " ('./spectrograms\\\\ballade\\\\ballade45.png', 0),\n",
       " ('./spectrograms\\\\ballade\\\\ballade46.png', 0),\n",
       " ('./spectrograms\\\\ballade\\\\ballade47.png', 0),\n",
       " ('./spectrograms\\\\ballade\\\\ballade48.png', 0),\n",
       " ('./spectrograms\\\\ballade\\\\ballade49.png', 0),\n",
       " ('./spectrograms\\\\ballade\\\\ballade5.png', 0),\n",
       " ('./spectrograms\\\\ballade\\\\ballade50.png', 0),\n",
       " ('./spectrograms\\\\ballade\\\\ballade51.png', 0),\n",
       " ('./spectrograms\\\\ballade\\\\ballade52.png', 0),\n",
       " ('./spectrograms\\\\ballade\\\\ballade53.png', 0),\n",
       " ('./spectrograms\\\\ballade\\\\ballade54.png', 0),\n",
       " ('./spectrograms\\\\ballade\\\\ballade55.png', 0),\n",
       " ('./spectrograms\\\\ballade\\\\ballade56.png', 0),\n",
       " ('./spectrograms\\\\ballade\\\\ballade57.png', 0),\n",
       " ('./spectrograms\\\\ballade\\\\ballade58.png', 0),\n",
       " ('./spectrograms\\\\ballade\\\\ballade59.png', 0),\n",
       " ('./spectrograms\\\\ballade\\\\ballade6.png', 0),\n",
       " ('./spectrograms\\\\ballade\\\\ballade60.png', 0),\n",
       " ('./spectrograms\\\\ballade\\\\ballade61.png', 0),\n",
       " ('./spectrograms\\\\ballade\\\\ballade62.png', 0),\n",
       " ('./spectrograms\\\\ballade\\\\ballade63.png', 0),\n",
       " ('./spectrograms\\\\ballade\\\\ballade64.png', 0),\n",
       " ('./spectrograms\\\\ballade\\\\ballade65.png', 0),\n",
       " ('./spectrograms\\\\ballade\\\\ballade66.png', 0),\n",
       " ('./spectrograms\\\\ballade\\\\ballade67.png', 0),\n",
       " ('./spectrograms\\\\ballade\\\\ballade68.png', 0),\n",
       " ('./spectrograms\\\\ballade\\\\ballade69.png', 0),\n",
       " ('./spectrograms\\\\ballade\\\\ballade7.png', 0),\n",
       " ('./spectrograms\\\\ballade\\\\ballade70.png', 0),\n",
       " ('./spectrograms\\\\ballade\\\\ballade71.png', 0),\n",
       " ('./spectrograms\\\\ballade\\\\ballade72.png', 0),\n",
       " ('./spectrograms\\\\ballade\\\\ballade73.png', 0),\n",
       " ('./spectrograms\\\\ballade\\\\ballade74.png', 0),\n",
       " ('./spectrograms\\\\ballade\\\\ballade75.png', 0),\n",
       " ('./spectrograms\\\\ballade\\\\ballade76.png', 0),\n",
       " ('./spectrograms\\\\ballade\\\\ballade77.png', 0),\n",
       " ('./spectrograms\\\\ballade\\\\ballade78.png', 0),\n",
       " ('./spectrograms\\\\ballade\\\\ballade79.png', 0),\n",
       " ('./spectrograms\\\\ballade\\\\ballade8.png', 0),\n",
       " ('./spectrograms\\\\ballade\\\\ballade80.png', 0),\n",
       " ('./spectrograms\\\\ballade\\\\ballade81.png', 0),\n",
       " ('./spectrograms\\\\ballade\\\\ballade82.png', 0),\n",
       " ('./spectrograms\\\\ballade\\\\ballade83.png', 0),\n",
       " ('./spectrograms\\\\ballade\\\\ballade84.png', 0),\n",
       " ('./spectrograms\\\\ballade\\\\ballade85.png', 0),\n",
       " ('./spectrograms\\\\ballade\\\\ballade86.png', 0),\n",
       " ('./spectrograms\\\\ballade\\\\ballade87.png', 0),\n",
       " ('./spectrograms\\\\ballade\\\\ballade88.png', 0),\n",
       " ('./spectrograms\\\\ballade\\\\ballade89.png', 0),\n",
       " ('./spectrograms\\\\ballade\\\\ballade9.png', 0),\n",
       " ('./spectrograms\\\\ballade\\\\ballade90.png', 0),\n",
       " ('./spectrograms\\\\ballade\\\\ballade91.png', 0),\n",
       " ('./spectrograms\\\\ballade\\\\ballade92.png', 0),\n",
       " ('./spectrograms\\\\ballade\\\\ballade93.png', 0),\n",
       " ('./spectrograms\\\\ballade\\\\ballade94.png', 0),\n",
       " ('./spectrograms\\\\ballade\\\\ballade95.png', 0),\n",
       " ('./spectrograms\\\\ballade\\\\ballade96.png', 0),\n",
       " ('./spectrograms\\\\ballade\\\\ballade97.png', 0),\n",
       " ('./spectrograms\\\\ballade\\\\ballade98.png', 0),\n",
       " ('./spectrograms\\\\ballade\\\\ballade99.png', 0),\n",
       " ('./spectrograms\\\\dance\\\\dance0.png', 1),\n",
       " ('./spectrograms\\\\dance\\\\dance1.png', 1),\n",
       " ('./spectrograms\\\\dance\\\\dance10.png', 1),\n",
       " ('./spectrograms\\\\dance\\\\dance11.png', 1),\n",
       " ('./spectrograms\\\\dance\\\\dance12.png', 1),\n",
       " ('./spectrograms\\\\dance\\\\dance13.png', 1),\n",
       " ('./spectrograms\\\\dance\\\\dance14.png', 1),\n",
       " ('./spectrograms\\\\dance\\\\dance15.png', 1),\n",
       " ('./spectrograms\\\\dance\\\\dance16.png', 1),\n",
       " ('./spectrograms\\\\dance\\\\dance17.png', 1),\n",
       " ('./spectrograms\\\\dance\\\\dance18.png', 1),\n",
       " ('./spectrograms\\\\dance\\\\dance19.png', 1),\n",
       " ('./spectrograms\\\\dance\\\\dance2.png', 1),\n",
       " ('./spectrograms\\\\dance\\\\dance20.png', 1),\n",
       " ('./spectrograms\\\\dance\\\\dance21.png', 1),\n",
       " ('./spectrograms\\\\dance\\\\dance22.png', 1),\n",
       " ('./spectrograms\\\\dance\\\\dance23.png', 1),\n",
       " ('./spectrograms\\\\dance\\\\dance24.png', 1),\n",
       " ('./spectrograms\\\\dance\\\\dance25.png', 1),\n",
       " ('./spectrograms\\\\dance\\\\dance26.png', 1),\n",
       " ('./spectrograms\\\\dance\\\\dance27.png', 1),\n",
       " ('./spectrograms\\\\dance\\\\dance28.png', 1),\n",
       " ('./spectrograms\\\\dance\\\\dance29.png', 1),\n",
       " ('./spectrograms\\\\dance\\\\dance3.png', 1),\n",
       " ('./spectrograms\\\\dance\\\\dance30.png', 1),\n",
       " ('./spectrograms\\\\dance\\\\dance31.png', 1),\n",
       " ('./spectrograms\\\\dance\\\\dance32.png', 1),\n",
       " ('./spectrograms\\\\dance\\\\dance33.png', 1),\n",
       " ('./spectrograms\\\\dance\\\\dance34.png', 1),\n",
       " ('./spectrograms\\\\dance\\\\dance35.png', 1),\n",
       " ('./spectrograms\\\\dance\\\\dance36.png', 1),\n",
       " ('./spectrograms\\\\dance\\\\dance37.png', 1),\n",
       " ('./spectrograms\\\\dance\\\\dance38.png', 1),\n",
       " ('./spectrograms\\\\dance\\\\dance39.png', 1),\n",
       " ('./spectrograms\\\\dance\\\\dance4.png', 1),\n",
       " ('./spectrograms\\\\dance\\\\dance40.png', 1),\n",
       " ('./spectrograms\\\\dance\\\\dance41.png', 1),\n",
       " ('./spectrograms\\\\dance\\\\dance42.png', 1),\n",
       " ('./spectrograms\\\\dance\\\\dance43.png', 1),\n",
       " ('./spectrograms\\\\dance\\\\dance44.png', 1),\n",
       " ('./spectrograms\\\\dance\\\\dance45.png', 1),\n",
       " ('./spectrograms\\\\dance\\\\dance46.png', 1),\n",
       " ('./spectrograms\\\\dance\\\\dance47.png', 1),\n",
       " ('./spectrograms\\\\dance\\\\dance48.png', 1),\n",
       " ('./spectrograms\\\\dance\\\\dance49.png', 1),\n",
       " ('./spectrograms\\\\dance\\\\dance5.png', 1),\n",
       " ('./spectrograms\\\\dance\\\\dance50.png', 1),\n",
       " ('./spectrograms\\\\dance\\\\dance51.png', 1),\n",
       " ('./spectrograms\\\\dance\\\\dance52.png', 1),\n",
       " ('./spectrograms\\\\dance\\\\dance53.png', 1),\n",
       " ('./spectrograms\\\\dance\\\\dance54.png', 1),\n",
       " ('./spectrograms\\\\dance\\\\dance55.png', 1),\n",
       " ('./spectrograms\\\\dance\\\\dance56.png', 1),\n",
       " ('./spectrograms\\\\dance\\\\dance57.png', 1),\n",
       " ('./spectrograms\\\\dance\\\\dance58.png', 1),\n",
       " ('./spectrograms\\\\dance\\\\dance59.png', 1),\n",
       " ('./spectrograms\\\\dance\\\\dance6.png', 1),\n",
       " ('./spectrograms\\\\dance\\\\dance60.png', 1),\n",
       " ('./spectrograms\\\\dance\\\\dance61.png', 1),\n",
       " ('./spectrograms\\\\dance\\\\dance62.png', 1),\n",
       " ('./spectrograms\\\\dance\\\\dance63.png', 1),\n",
       " ('./spectrograms\\\\dance\\\\dance64.png', 1),\n",
       " ('./spectrograms\\\\dance\\\\dance65.png', 1),\n",
       " ('./spectrograms\\\\dance\\\\dance66.png', 1),\n",
       " ('./spectrograms\\\\dance\\\\dance67.png', 1),\n",
       " ('./spectrograms\\\\dance\\\\dance68.png', 1),\n",
       " ('./spectrograms\\\\dance\\\\dance69.png', 1),\n",
       " ('./spectrograms\\\\dance\\\\dance7.png', 1),\n",
       " ('./spectrograms\\\\dance\\\\dance70.png', 1),\n",
       " ('./spectrograms\\\\dance\\\\dance71.png', 1),\n",
       " ('./spectrograms\\\\dance\\\\dance72.png', 1),\n",
       " ('./spectrograms\\\\dance\\\\dance73.png', 1),\n",
       " ('./spectrograms\\\\dance\\\\dance74.png', 1),\n",
       " ('./spectrograms\\\\dance\\\\dance75.png', 1),\n",
       " ('./spectrograms\\\\dance\\\\dance76.png', 1),\n",
       " ('./spectrograms\\\\dance\\\\dance77.png', 1),\n",
       " ('./spectrograms\\\\dance\\\\dance78.png', 1),\n",
       " ('./spectrograms\\\\dance\\\\dance79.png', 1),\n",
       " ('./spectrograms\\\\dance\\\\dance8.png', 1),\n",
       " ('./spectrograms\\\\dance\\\\dance80.png', 1),\n",
       " ('./spectrograms\\\\dance\\\\dance81.png', 1),\n",
       " ('./spectrograms\\\\dance\\\\dance82.png', 1),\n",
       " ('./spectrograms\\\\dance\\\\dance83.png', 1),\n",
       " ('./spectrograms\\\\dance\\\\dance84.png', 1),\n",
       " ('./spectrograms\\\\dance\\\\dance85.png', 1),\n",
       " ('./spectrograms\\\\dance\\\\dance86.png', 1),\n",
       " ('./spectrograms\\\\dance\\\\dance87.png', 1),\n",
       " ('./spectrograms\\\\dance\\\\dance88.png', 1),\n",
       " ('./spectrograms\\\\dance\\\\dance89.png', 1),\n",
       " ('./spectrograms\\\\dance\\\\dance9.png', 1),\n",
       " ('./spectrograms\\\\dance\\\\dance90.png', 1),\n",
       " ('./spectrograms\\\\dance\\\\dance91.png', 1),\n",
       " ('./spectrograms\\\\dance\\\\dance92.png', 1),\n",
       " ('./spectrograms\\\\dance\\\\dance93.png', 1),\n",
       " ('./spectrograms\\\\dance\\\\dance94.png', 1),\n",
       " ('./spectrograms\\\\dance\\\\dance95.png', 1),\n",
       " ('./spectrograms\\\\dance\\\\dance96.png', 1),\n",
       " ('./spectrograms\\\\dance\\\\dance97.png', 1),\n",
       " ('./spectrograms\\\\dance\\\\dance98.png', 1),\n",
       " ('./spectrograms\\\\dance\\\\dance99.png', 1),\n",
       " ('./spectrograms\\\\trot\\\\trot0.png', 2),\n",
       " ('./spectrograms\\\\trot\\\\trot1.png', 2),\n",
       " ('./spectrograms\\\\trot\\\\trot10.png', 2),\n",
       " ('./spectrograms\\\\trot\\\\trot11.png', 2),\n",
       " ('./spectrograms\\\\trot\\\\trot12.png', 2),\n",
       " ('./spectrograms\\\\trot\\\\trot13.png', 2),\n",
       " ('./spectrograms\\\\trot\\\\trot14.png', 2),\n",
       " ('./spectrograms\\\\trot\\\\trot15.png', 2),\n",
       " ('./spectrograms\\\\trot\\\\trot16.png', 2),\n",
       " ('./spectrograms\\\\trot\\\\trot17.png', 2),\n",
       " ('./spectrograms\\\\trot\\\\trot18.png', 2),\n",
       " ('./spectrograms\\\\trot\\\\trot19.png', 2),\n",
       " ('./spectrograms\\\\trot\\\\trot2.png', 2),\n",
       " ('./spectrograms\\\\trot\\\\trot20.png', 2),\n",
       " ('./spectrograms\\\\trot\\\\trot21.png', 2),\n",
       " ('./spectrograms\\\\trot\\\\trot22.png', 2),\n",
       " ('./spectrograms\\\\trot\\\\trot23.png', 2),\n",
       " ('./spectrograms\\\\trot\\\\trot24.png', 2),\n",
       " ('./spectrograms\\\\trot\\\\trot25.png', 2),\n",
       " ('./spectrograms\\\\trot\\\\trot26.png', 2),\n",
       " ('./spectrograms\\\\trot\\\\trot27.png', 2),\n",
       " ('./spectrograms\\\\trot\\\\trot28.png', 2),\n",
       " ('./spectrograms\\\\trot\\\\trot29.png', 2),\n",
       " ('./spectrograms\\\\trot\\\\trot3.png', 2),\n",
       " ('./spectrograms\\\\trot\\\\trot30.png', 2),\n",
       " ('./spectrograms\\\\trot\\\\trot31.png', 2),\n",
       " ('./spectrograms\\\\trot\\\\trot32.png', 2),\n",
       " ('./spectrograms\\\\trot\\\\trot33.png', 2),\n",
       " ('./spectrograms\\\\trot\\\\trot34.png', 2),\n",
       " ('./spectrograms\\\\trot\\\\trot35.png', 2),\n",
       " ('./spectrograms\\\\trot\\\\trot36.png', 2),\n",
       " ('./spectrograms\\\\trot\\\\trot37.png', 2),\n",
       " ('./spectrograms\\\\trot\\\\trot38.png', 2),\n",
       " ('./spectrograms\\\\trot\\\\trot39.png', 2),\n",
       " ('./spectrograms\\\\trot\\\\trot4.png', 2),\n",
       " ('./spectrograms\\\\trot\\\\trot40.png', 2),\n",
       " ('./spectrograms\\\\trot\\\\trot41.png', 2),\n",
       " ('./spectrograms\\\\trot\\\\trot42.png', 2),\n",
       " ('./spectrograms\\\\trot\\\\trot43.png', 2),\n",
       " ('./spectrograms\\\\trot\\\\trot44.png', 2),\n",
       " ('./spectrograms\\\\trot\\\\trot45.png', 2),\n",
       " ('./spectrograms\\\\trot\\\\trot46.png', 2),\n",
       " ('./spectrograms\\\\trot\\\\trot47.png', 2),\n",
       " ('./spectrograms\\\\trot\\\\trot48.png', 2),\n",
       " ('./spectrograms\\\\trot\\\\trot49.png', 2),\n",
       " ('./spectrograms\\\\trot\\\\trot5.png', 2),\n",
       " ('./spectrograms\\\\trot\\\\trot50.png', 2),\n",
       " ('./spectrograms\\\\trot\\\\trot51.png', 2),\n",
       " ('./spectrograms\\\\trot\\\\trot52.png', 2),\n",
       " ('./spectrograms\\\\trot\\\\trot53.png', 2),\n",
       " ('./spectrograms\\\\trot\\\\trot54.png', 2),\n",
       " ('./spectrograms\\\\trot\\\\trot55.png', 2),\n",
       " ('./spectrograms\\\\trot\\\\trot56.png', 2),\n",
       " ('./spectrograms\\\\trot\\\\trot57.png', 2),\n",
       " ('./spectrograms\\\\trot\\\\trot58.png', 2),\n",
       " ('./spectrograms\\\\trot\\\\trot59.png', 2),\n",
       " ('./spectrograms\\\\trot\\\\trot6.png', 2),\n",
       " ('./spectrograms\\\\trot\\\\trot60.png', 2),\n",
       " ('./spectrograms\\\\trot\\\\trot61.png', 2),\n",
       " ('./spectrograms\\\\trot\\\\trot62.png', 2),\n",
       " ('./spectrograms\\\\trot\\\\trot63.png', 2),\n",
       " ('./spectrograms\\\\trot\\\\trot64.png', 2),\n",
       " ('./spectrograms\\\\trot\\\\trot65.png', 2),\n",
       " ('./spectrograms\\\\trot\\\\trot66.png', 2),\n",
       " ('./spectrograms\\\\trot\\\\trot67.png', 2),\n",
       " ('./spectrograms\\\\trot\\\\trot68.png', 2),\n",
       " ('./spectrograms\\\\trot\\\\trot69.png', 2),\n",
       " ('./spectrograms\\\\trot\\\\trot7.png', 2),\n",
       " ('./spectrograms\\\\trot\\\\trot70.png', 2),\n",
       " ('./spectrograms\\\\trot\\\\trot71.png', 2),\n",
       " ('./spectrograms\\\\trot\\\\trot72.png', 2),\n",
       " ('./spectrograms\\\\trot\\\\trot73.png', 2),\n",
       " ('./spectrograms\\\\trot\\\\trot74.png', 2),\n",
       " ('./spectrograms\\\\trot\\\\trot75.png', 2),\n",
       " ('./spectrograms\\\\trot\\\\trot76.png', 2),\n",
       " ('./spectrograms\\\\trot\\\\trot77.png', 2),\n",
       " ('./spectrograms\\\\trot\\\\trot78.png', 2),\n",
       " ('./spectrograms\\\\trot\\\\trot79.png', 2),\n",
       " ('./spectrograms\\\\trot\\\\trot8.png', 2),\n",
       " ('./spectrograms\\\\trot\\\\trot80.png', 2),\n",
       " ('./spectrograms\\\\trot\\\\trot81.png', 2),\n",
       " ('./spectrograms\\\\trot\\\\trot82.png', 2),\n",
       " ('./spectrograms\\\\trot\\\\trot83.png', 2),\n",
       " ('./spectrograms\\\\trot\\\\trot84.png', 2),\n",
       " ('./spectrograms\\\\trot\\\\trot85.png', 2),\n",
       " ('./spectrograms\\\\trot\\\\trot86.png', 2),\n",
       " ('./spectrograms\\\\trot\\\\trot87.png', 2),\n",
       " ('./spectrograms\\\\trot\\\\trot88.png', 2),\n",
       " ('./spectrograms\\\\trot\\\\trot89.png', 2),\n",
       " ('./spectrograms\\\\trot\\\\trot9.png', 2),\n",
       " ('./spectrograms\\\\trot\\\\trot90.png', 2),\n",
       " ('./spectrograms\\\\trot\\\\trot91.png', 2),\n",
       " ('./spectrograms\\\\trot\\\\trot92.png', 2),\n",
       " ('./spectrograms\\\\trot\\\\trot93.png', 2),\n",
       " ('./spectrograms\\\\trot\\\\trot94.png', 2),\n",
       " ('./spectrograms\\\\trot\\\\trot95.png', 2),\n",
       " ('./spectrograms\\\\trot\\\\trot96.png', 2),\n",
       " ('./spectrograms\\\\trot\\\\trot97.png', 2),\n",
       " ('./spectrograms\\\\trot\\\\trot98.png', 2),\n",
       " ('./spectrograms\\\\trot\\\\trot99.png', 2)]"
      ]
     },
     "execution_count": 3,
     "metadata": {},
     "output_type": "execute_result"
    }
   ],
   "source": [
    "imgDS.samples"
   ]
  },
  {
   "cell_type": "markdown",
   "id": "bca4528fe0e93b19",
   "metadata": {
    "collapsed": false
   },
   "source": [
    "## 데이터 셋이 잘 읽혔는지 확인"
   ]
  },
  {
   "cell_type": "code",
   "execution_count": 4,
   "id": "10c0973e",
   "metadata": {},
   "outputs": [
    {
     "data": {
      "text/plain": [
       "(['ballade', 'dance', 'trot'], {'ballade': 0, 'dance': 1, 'trot': 2})"
      ]
     },
     "execution_count": 4,
     "metadata": {},
     "output_type": "execute_result"
    }
   ],
   "source": [
    "imgDS.classes, imgDS.class_to_idx"
   ]
  },
  {
   "cell_type": "code",
   "execution_count": 5,
   "id": "5c2c4158",
   "metadata": {},
   "outputs": [],
   "source": [
    "from sklearn.model_selection import train_test_split\n",
    "\n",
    "# 이미지 데이터와 레이블을 가져옴\n",
    "images = [img for img, _ in imgDS]\n",
    "labels = [label for _, label in imgDS]\n",
    "\n",
    "# Stratified sampling을 사용하여 train, validation, test 세트로 분할\n",
    "train_images, valtest_images, train_labels, valtest_labels = train_test_split(images, labels, test_size=0.2, stratify=labels)\n",
    "val_images, test_images, val_labels, test_labels = train_test_split(valtest_images, valtest_labels, test_size=0.5, stratify=valtest_labels)"
   ]
  },
  {
   "cell_type": "code",
   "execution_count": 6,
   "id": "4f433776",
   "metadata": {},
   "outputs": [
    {
     "name": "stdout",
     "output_type": "stream",
     "text": [
      "(array([0, 1, 2]), array([80, 80, 80], dtype=int64))\n",
      "(array([0, 1, 2]), array([10, 10, 10], dtype=int64))\n",
      "(array([0, 1, 2]), array([10, 10, 10], dtype=int64))\n"
     ]
    }
   ],
   "source": [
    "# split 결과 비율 확인 \n",
    "print(np.unique(np.array(train_labels),  return_counts=True))\n",
    "print(np.unique(np.array(val_labels),  return_counts=True))\n",
    "print(np.unique(np.array(test_labels),  return_counts=True))"
   ]
  },
  {
   "cell_type": "code",
   "execution_count": 7,
   "id": "83c26c12",
   "metadata": {},
   "outputs": [],
   "source": [
    "class CustomDataset(Dataset): \n",
    "  def __init__(self, data, label):\n",
    "      self.data = data\n",
    "      self.label = torch.LongTensor(label)\n",
    "\n",
    "  def __len__(self):\n",
    "      return len(self.data)\n",
    "  \n",
    "  def __getitem__(self, idx): \n",
    "      x = self.data[idx]\n",
    "      y = self.label[idx]\n",
    "      return x, y"
   ]
  },
  {
   "cell_type": "code",
   "execution_count": 8,
   "id": "e345d4e1",
   "metadata": {},
   "outputs": [],
   "source": [
    "# 데이터셋 생성\n",
    "train_dataset = CustomDataset(train_images, train_labels)\n",
    "val_dataset = CustomDataset(val_images, val_labels)\n",
    "test_dataset = CustomDataset(test_images, test_labels)\n",
    "\n",
    "# DataLoader 생성\n",
    "train_loader = DataLoader(train_dataset, batch_size=320, shuffle=True)\n",
    "val_loader = DataLoader(val_dataset, batch_size=20, shuffle=True)\n",
    "test_loader = DataLoader(test_dataset, batch_size=40)"
   ]
  },
  {
   "cell_type": "code",
   "execution_count": 9,
   "id": "c3ae2dc0",
   "metadata": {},
   "outputs": [
    {
     "name": "stdout",
     "output_type": "stream",
     "text": [
      "Batch 0\n",
      "Data shape: torch.Size([240, 1, 100, 100])\n",
      "Labels: tensor([80, 80, 80])\n",
      "\n"
     ]
    }
   ],
   "source": [
    "for batch_idx, (data, labels) in enumerate(train_loader):\n",
    "    print('Batch', batch_idx)\n",
    "    print('Data shape:', data.shape)\n",
    "    print('Labels:', torch.bincount(labels))\n",
    "    print()"
   ]
  },
  {
   "cell_type": "markdown",
   "id": "c597ce825f4d8c60",
   "metadata": {
    "collapsed": false
   },
   "source": [
    "# CNN 모델 생성"
   ]
  },
  {
   "cell_type": "code",
   "execution_count": 10,
   "id": "f343160eda89d149",
   "metadata": {
    "ExecuteTime": {
     "end_time": "2024-04-04T12:13:00.489330300Z",
     "start_time": "2024-04-04T12:13:00.461047900Z"
    },
    "collapsed": false
   },
   "outputs": [
    {
     "name": "stdout",
     "output_type": "stream",
     "text": [
      "Using PyTorch version: 2.2.2  Device: cpu\n"
     ]
    }
   ],
   "source": [
    "### ===> 딥러닝 모델을 설계할 때 활용하는 장비 확인\n",
    "if torch.cuda.is_available():\n",
    "    DEVICE = torch.device('cuda')\n",
    "else:\n",
    "    DEVICE = torch.device('cpu')\n",
    "    \n",
    "print('Using PyTorch version:', torch.__version__, ' Device:', DEVICE)"
   ]
  },
  {
   "cell_type": "code",
   "execution_count": 22,
   "id": "b15a9b47ccfd2140",
   "metadata": {
    "ExecuteTime": {
     "end_time": "2024-04-04T12:13:01.657985900Z",
     "start_time": "2024-04-04T12:13:00.493541700Z"
    },
    "collapsed": false
   },
   "outputs": [],
   "source": [
    "# 사전 학습된 모델 로딩\n",
    "# import torchvision.models as models # 다양한모델패키지\n",
    "# model = models.vgg16(pretrained=True)\n",
    "\n",
    "# # 사전 훈련된 모델의 파라미터 학습 유무 설정 함수\n",
    "# def set_parameter_requires_grad(model, feature_extract = True):\n",
    "#     if feature_extract:\n",
    "#         for param in model.parameters():\n",
    "#             param.requires_grad = False # 학습하는 것을 방지\n",
    "\n",
    "# set_parameter_requires_grad(model) # 함수 호출"
   ]
  },
  {
   "cell_type": "code",
   "execution_count": 23,
   "id": "314cb3aab41e2842",
   "metadata": {
    "ExecuteTime": {
     "end_time": "2024-04-04T12:13:01.708166300Z",
     "start_time": "2024-04-04T12:13:01.665713900Z"
    },
    "collapsed": false
   },
   "outputs": [],
   "source": [
    "# 분류기 부분을 이진 분류기로 수정하는 클래스 정의\n",
    "class CNN(nn.Module):\n",
    "    def __init__(self):\n",
    "        super(CNN, self).__init__() # in rgb, 커널은 8개 준비고했고 사이즈는 3*3짜리얌\n",
    "        self.conv1 = nn.Conv2d(in_channels=1, out_channels=16, kernel_size=3, padding=1)\n",
    "        self.conv2 = nn.Conv2d(in_channels=16, out_channels=1, kernel_size=3, padding=1)\n",
    "        # self.conv3 = nn.Conv2d(in_channels=64, out_channels=64, kernel_size=3, padding=1)\n",
    "        # self.conv4 = nn.Conv2d(in_channels=64, out_channels=64, kernel_size=3, padding=1)\n",
    "        self.pool1 = nn.MaxPool2d(kernel_size=2)\n",
    "        self.pool2 = nn.MaxPool2d(kernel_size=3)\n",
    "        # self.pool3 = nn.MaxPool2d(kernel_size=4)\n",
    "        # self.pool4 = nn.MaxPool2d(kernel_size=4)\n",
    "           \n",
    "    def forward(self, x):\n",
    "        x = F.relu(self.conv1(x))\n",
    "        x = self.pool1(x)\n",
    "        x = F.relu(self.conv2(x))\n",
    "        x = self.pool2(x)\n",
    "        # x = F.relu(self.conv3(x))\n",
    "        # x = self.pool3(x)\n",
    "        # x = F.relu(self.conv4(x))\n",
    "        # x = self.pool4(x)\n",
    "        return x"
   ]
  },
  {
   "cell_type": "code",
   "execution_count": 24,
   "id": "84b984fb1fcbda88",
   "metadata": {
    "ExecuteTime": {
     "end_time": "2024-04-04T12:13:01.729493800Z",
     "start_time": "2024-04-04T12:13:01.706067900Z"
    },
    "collapsed": false
   },
   "outputs": [],
   "source": [
    "# LSTM으로 시간적 특성까지 고려하기 \n",
    "class LSTMAutoencoder(nn.Module):\n",
    "    def __init__(self, input_size, hidden_size, num_layers, num_classes):\n",
    "        super().__init__()\n",
    "        self.hidden_size = hidden_size\n",
    "        self.num_layers = num_layers\n",
    "        self.lstm = nn.LSTM(input_size, hidden_size, num_layers, batch_first=True) # 배치가 앞으로 \n",
    "        self.fc = nn.Linear(hidden_size, num_classes)\n",
    "\n",
    "    def forward(self, x): \n",
    "        h0 = torch.zeros(self.num_layers, x.size(0), self.hidden_size).to(DEVICE) # (BATCH SIZE, SEQ_LENGTH, HIDDEN_SIZE)\n",
    "        c0 = torch.zeros(self.num_layers, x.size(0), self.hidden_size).to(DEVICE) # hidden state와 동일\n",
    "        result, _ = self.lstm(x, (h0, c0))                                        # output : (BATCH_SIZE, SEQ_LENGTH, HIDDEN_SIZE)\n",
    "        result = self.fc(result[:, -1, :])                                        # logit \n",
    "        return result\n",
    "#################################################################################################\n"
   ]
  },
  {
   "cell_type": "code",
   "execution_count": 25,
   "id": "62951302",
   "metadata": {},
   "outputs": [],
   "source": [
    "# cnn과 lstm을 다 넣은 최종 모델 \n",
    "class CnnLstmModel(nn.Module):\n",
    "    def __init__(self, cnn_model, lstm_autoencoder):\n",
    "        super(CnnLstmModel, self).__init__()\n",
    "        self.cnn_model = cnn_model\n",
    "        self.lstm_autoencoder = lstm_autoencoder\n",
    "        self.fc = nn.Linear(256, 4)  # LSTM의 마지막 hidden state의 크기는 256\n",
    "        \n",
    "    def forward(self, x):\n",
    "        # CNN 모델로 local특징 추출 \n",
    "        features = self.cnn_model(x)\n",
    "        features = features.reshape(-1, 16, 16).to(DEVICE)\n",
    "        \n",
    "        # LSTM을 통해 추출된 특징을 시간적 특성 추출하기 \n",
    "        lstm_output = self.lstm_autoencoder(features)\n",
    "        \n",
    "        # LSTM의 마지막 hidden state를 fully connected layer에 전달하여 클래스 예측\n",
    "        # output = self.fc(lstm_output[:, -1, :])  # LSTM의 마지막 hidden state 선택\n",
    "        \n",
    "        return lstm_output"
   ]
  },
  {
   "cell_type": "code",
   "execution_count": 26,
   "id": "6de9a22f5a594f21",
   "metadata": {
    "ExecuteTime": {
     "end_time": "2024-04-04T12:13:01.774928500Z",
     "start_time": "2024-04-04T12:13:01.723090500Z"
    },
    "collapsed": false
   },
   "outputs": [],
   "source": [
    "sequence_length = 16 # 이미지 가로\n",
    "input_size = 16 # 이미지 세로\n",
    "hidden_size = 128\n",
    "num_layers = 5\n",
    "num_classes = 4\n",
    "learning_rate = 0.001\n",
    "\n",
    "cnn_model = CNN()\n",
    "lstm_autoencoder = LSTMAutoencoder(input_size, hidden_size, num_layers, num_classes).to(DEVICE)\n",
    "\n",
    "classification_model = CnnLstmModel(cnn_model, lstm_autoencoder)\n",
    "\n",
    "# optimizer = torch.optim.Adam(list(cnn_model.parameters()) + list(lstm_autoencoder.parameters()) + list(classification_model.parameters()), lr=0.001, weight_decay=1e-4)\n",
    "optimizer = torch.optim.Adam(classification_model.parameters())\n",
    "\n",
    "criterion = nn.CrossEntropyLoss() # binary_cross_entropy"
   ]
  },
  {
   "cell_type": "code",
   "execution_count": 27,
   "id": "173cc961d1fe0c37",
   "metadata": {
    "ExecuteTime": {
     "end_time": "2024-04-04T12:13:01.775977500Z",
     "start_time": "2024-04-04T12:13:01.738094300Z"
    },
    "collapsed": false
   },
   "outputs": [],
   "source": [
    "scheduler = optim.lr_scheduler.MultiStepLR(optimizer, milestones=[2, 3, 4, 8, 13, 18, 25, 30], gamma=0.5)\n",
    "scheduler = optim.lr_scheduler.MultiStepLR(optimizer, milestones=[5, 10, 20, 40, 60, 80], gamma=0.5)"
   ]
  },
  {
   "cell_type": "code",
   "execution_count": 28,
   "id": "e400e8558bcb281f",
   "metadata": {
    "ExecuteTime": {
     "end_time": "2024-04-04T12:13:01.795815800Z",
     "start_time": "2024-04-04T12:13:01.757538600Z"
    },
    "collapsed": false
   },
   "outputs": [],
   "source": [
    "# CNN 모델 학습 진행 함수\n",
    "def train(epoch, model, dataloader, criterion, optimizer):\n",
    "    model.train()  # 모델을 학습 모드로 설정\n",
    "    running_loss = 0.0\n",
    "    correct = 0.0\n",
    "    \n",
    "    for inputs, labels in dataloader:\n",
    "        inputs = inputs.to(DEVICE)\n",
    "        labels = labels.to(DEVICE)\n",
    "        \n",
    "        optimizer.zero_grad()\n",
    "        \n",
    "        # Forward pass\n",
    "        outputs = model(inputs)\n",
    "        \n",
    "        # Loss 계산\n",
    "        loss = criterion(outputs, labels)\n",
    "        \n",
    "        # Backward pass 및 가중치 업데이트\n",
    "        loss.backward()\n",
    "        optimizer.step()\n",
    "        \n",
    "        running_loss += loss.item() * inputs.size(0)\n",
    "        \n",
    "        prediction = outputs.max(1, keepdim = True)[1]\n",
    "        correct += prediction.eq(labels.view_as(prediction)).sum().item()\n",
    "    \n",
    "    # epoch당 평균 손실\n",
    "    total_loss = running_loss / len(dataloader.dataset)\n",
    "    \n",
    "    total_loss /= len(train_loader.dataset) # 평균 손실 \n",
    "    train_accuracy = 100. * correct / len(train_loader.dataset)\n",
    "    return total_loss, train_accuracy"
   ]
  },
  {
   "cell_type": "code",
   "execution_count": 29,
   "id": "f25346fb72290982",
   "metadata": {
    "ExecuteTime": {
     "end_time": "2024-04-04T12:13:01.814761800Z",
     "start_time": "2024-04-04T12:13:01.787973100Z"
    },
    "collapsed": false
   },
   "outputs": [],
   "source": [
    "### 검증 validation 진행 함수 \n",
    "def evaluate(model, dataloader, criterion):\n",
    "    model.eval()  # 모델을 평가 모드로 설정\n",
    "    running_loss = 0.0\n",
    "    correct_preds = 0\n",
    "    total_preds = 0\n",
    "    \n",
    "    with torch.no_grad():\n",
    "        for inputs, labels in dataloader:\n",
    "            inputs = inputs.to(DEVICE)\n",
    "            labels = labels.to(DEVICE)\n",
    "            \n",
    "            # Forward pass\n",
    "            outputs = model(inputs)\n",
    "            \n",
    "            # Loss 계산\n",
    "            loss = criterion(outputs, labels)\n",
    "            \n",
    "            running_loss += loss.item() * inputs.size(0)\n",
    "            \n",
    "            # 정확도 계산\n",
    "            _, predicted = torch.max(outputs, 1)\n",
    "            correct_preds += (predicted == labels).sum().item()\n",
    "            total_preds += labels.size(0)\n",
    "    \n",
    "    # 평가 결과\n",
    "    epoch_loss = running_loss / len(dataloader.dataset)\n",
    "    accuracy = correct_preds / total_preds\n",
    "    \n",
    "    return epoch_loss, accuracy"
   ]
  },
  {
   "cell_type": "markdown",
   "id": "1900cdf2f3ffc0a1",
   "metadata": {
    "collapsed": false
   },
   "source": [
    "# 학습 진행"
   ]
  },
  {
   "cell_type": "code",
   "execution_count": 30,
   "id": "a699bfc38a1f98c2",
   "metadata": {
    "ExecuteTime": {
     "end_time": "2024-04-04T12:13:18.199055800Z",
     "start_time": "2024-04-04T12:13:01.804711200Z"
    },
    "collapsed": false
   },
   "outputs": [
    {
     "name": "stdout",
     "output_type": "stream",
     "text": [
      "\n",
      "[EPOCH: 1], \tTest Loss: 1.3738, \tTest Accuracy: 0.33 % \n",
      "\n",
      "\n",
      "[EPOCH: 2], \tTest Loss: 1.3617, \tTest Accuracy: 0.33 % \n",
      "\n",
      "\n",
      "[EPOCH: 3], \tTest Loss: 1.3492, \tTest Accuracy: 0.33 % \n",
      "\n",
      "\n",
      "[EPOCH: 4], \tTest Loss: 1.3351, \tTest Accuracy: 0.33 % \n",
      "\n",
      "\n",
      "[EPOCH: 5], \tTest Loss: 1.3176, \tTest Accuracy: 0.33 % \n",
      "\n",
      "\n",
      "[EPOCH: 6], \tTest Loss: 1.3066, \tTest Accuracy: 0.33 % \n",
      "\n",
      "\n",
      "[EPOCH: 7], \tTest Loss: 1.2931, \tTest Accuracy: 0.33 % \n",
      "\n",
      "\n",
      "[EPOCH: 8], \tTest Loss: 1.2759, \tTest Accuracy: 0.33 % \n",
      "\n",
      "\n",
      "[EPOCH: 9], \tTest Loss: 1.2539, \tTest Accuracy: 0.33 % \n",
      "\n",
      "\n",
      "[EPOCH: 10], \tTest Loss: 1.2263, \tTest Accuracy: 0.33 % \n",
      "\n",
      "\n",
      "[EPOCH: 11], \tTest Loss: 1.2106, \tTest Accuracy: 0.33 % \n",
      "\n",
      "\n",
      "[EPOCH: 12], \tTest Loss: 1.1941, \tTest Accuracy: 0.33 % \n",
      "\n",
      "\n",
      "[EPOCH: 13], \tTest Loss: 1.1778, \tTest Accuracy: 0.33 % \n",
      "\n",
      "\n",
      "[EPOCH: 14], \tTest Loss: 1.1632, \tTest Accuracy: 0.33 % \n",
      "\n",
      "\n",
      "[EPOCH: 15], \tTest Loss: 1.1514, \tTest Accuracy: 0.33 % \n",
      "\n",
      "\n",
      "[EPOCH: 16], \tTest Loss: 1.1423, \tTest Accuracy: 0.33 % \n",
      "\n",
      "\n",
      "[EPOCH: 17], \tTest Loss: 1.1350, \tTest Accuracy: 0.33 % \n",
      "\n",
      "\n",
      "[EPOCH: 18], \tTest Loss: 1.1286, \tTest Accuracy: 0.33 % \n",
      "\n",
      "\n",
      "[EPOCH: 19], \tTest Loss: 1.1228, \tTest Accuracy: 0.33 % \n",
      "\n",
      "\n",
      "[EPOCH: 20], \tTest Loss: 1.1177, \tTest Accuracy: 0.33 % \n",
      "\n",
      "\n",
      "[EPOCH: 21], \tTest Loss: 1.1155, \tTest Accuracy: 0.33 % \n",
      "\n",
      "\n",
      "[EPOCH: 22], \tTest Loss: 1.1136, \tTest Accuracy: 0.33 % \n",
      "\n",
      "\n",
      "[EPOCH: 23], \tTest Loss: 1.1122, \tTest Accuracy: 0.33 % \n",
      "\n",
      "\n",
      "[EPOCH: 24], \tTest Loss: 1.1111, \tTest Accuracy: 0.33 % \n",
      "\n",
      "\n",
      "[EPOCH: 25], \tTest Loss: 1.1104, \tTest Accuracy: 0.33 % \n",
      "\n",
      "\n",
      "[EPOCH: 26], \tTest Loss: 1.1100, \tTest Accuracy: 0.33 % \n",
      "\n",
      "\n",
      "[EPOCH: 27], \tTest Loss: 1.1097, \tTest Accuracy: 0.33 % \n",
      "\n",
      "\n",
      "[EPOCH: 28], \tTest Loss: 1.1095, \tTest Accuracy: 0.33 % \n",
      "\n",
      "\n",
      "[EPOCH: 29], \tTest Loss: 1.1093, \tTest Accuracy: 0.33 % \n",
      "\n",
      "\n",
      "[EPOCH: 30], \tTest Loss: 1.1089, \tTest Accuracy: 0.33 % \n",
      "\n"
     ]
    }
   ],
   "source": [
    "# CNN 학습\n",
    "EPOCHS = 30\n",
    "\n",
    "# 최고 성능 모델의 가중치 저장\n",
    "best_model_weights = None\n",
    "best_test_loss = np.inf\n",
    "patience = 10  # 조기 종료를 위한 참을성 값 설정\n",
    "counter = 0  # 성능이 향상되지 않는 epoch 카운터\n",
    "\n",
    "train_loss_acc = [[],[]]\n",
    "val_loss_acc = [[],[]]\n",
    "\n",
    "for epoch in range(1, EPOCHS + 1):\n",
    "    # train(epoch, model, dataloader, criterion, optimizer):\n",
    "    train_loss, train_acc = train(epoch, classification_model, train_loader, criterion, optimizer)\n",
    "    train_loss_acc[0].append(train_loss)\n",
    "    train_loss_acc[1].append(train_acc)\n",
    "    \n",
    "    \n",
    "    test_loss, test_accuracy = evaluate(classification_model, test_loader, criterion)\n",
    "    print(f\"\\n[EPOCH: {epoch}], \\tTest Loss: {test_loss:.4f}, \\tTest Accuracy: {test_accuracy:.2f} % \\n\")\n",
    "    val_loss_acc[0].append(test_loss)\n",
    "    val_loss_acc[1].append(test_accuracy)\n",
    "    \n",
    "    # 조기 종료 검사\n",
    "    if test_loss < best_test_loss:\n",
    "        best_test_loss = test_loss\n",
    "        best_model_weights = classification_model.state_dict()  # 최고 성능 모델의 가중치 저장\n",
    "        counter = 0  # 카운터 초기화\n",
    "    else:\n",
    "        counter += 1  # 성능이 향상되지 않음\n",
    "        \n",
    "        if counter >= patience:\n",
    "            print(\"조기 종료: 검증 손실이 이전에 관측된 최적의 손실보다 높아짐\")\n",
    "            break\n",
    "    scheduler.step() # 스케줄러 \n",
    "            \n",
    "# 최고 성능 모델의 가중치로 모델을 업데이트\n",
    "if best_model_weights is not None:\n",
    "    classification_model.load_state_dict(best_model_weights)"
   ]
  },
  {
   "cell_type": "code",
   "execution_count": 33,
   "id": "d866098f",
   "metadata": {},
   "outputs": [],
   "source": [
    "for i in range(len(val_loss_acc[1])):\n",
    "\tval_loss_acc[1][i] = val_loss_acc[1][i] * 100\n",
    "for i in range(len(train_loss_acc[0])):\n",
    "\ttrain_loss_acc[0][i] = train_loss_acc[0][i] * 100"
   ]
  },
  {
   "cell_type": "code",
   "execution_count": 34,
   "id": "c39e32162de1a334",
   "metadata": {
    "ExecuteTime": {
     "end_time": "2024-04-04T12:13:18.534335400Z",
     "start_time": "2024-04-04T12:13:18.211555800Z"
    },
    "collapsed": false
   },
   "outputs": [
    {
     "data": {
      "image/png": "[encoded data removed]",
      "text/plain": [
       "<Figure size 1000x500 with 1 Axes>"
      ]
     },
     "metadata": {},
     "output_type": "display_data"
    },
    {
     "data": {
      "image/png": "[encoded data removed]",
      "text/plain": [
       "<Figure size 1000x500 with 1 Axes>"
      ]
     },
     "metadata": {},
     "output_type": "display_data"
    }
   ],
   "source": [
    "from matplotlib import pyplot as plt\n",
    "# Loss 그래프 그리기\n",
    "plt.figure(figsize=(10, 5))\n",
    "plt.plot(train_loss_acc[0], label='Train Loss')\n",
    "plt.plot(val_loss_acc[0], label='Val Loss')\n",
    "plt.xlabel('Epoch')\n",
    "plt.ylabel('Loss')\n",
    "plt.title('Loss')\n",
    "plt.grid()\n",
    "plt.legend()\n",
    "plt.show()\n",
    "\n",
    "# Accuracy 그래프 그리기\n",
    "plt.figure(figsize=(10, 5))\n",
    "plt.plot(train_loss_acc[1], label='Train Accuracy')\n",
    "plt.plot(val_loss_acc[1], label='Val Accuracy')\n",
    "plt.xlabel('Epoch')\n",
    "plt.ylabel('Accuracy')\n",
    "plt.title('Accuracy')\n",
    "plt.legend()\n",
    "plt.grid()\n",
    "plt.show()"
   ]
  },
  {
   "cell_type": "markdown",
   "id": "d1c74de496c90340",
   "metadata": {
    "collapsed": false
   },
   "source": [
    "# test data predict"
   ]
  },
  {
   "cell_type": "code",
   "execution_count": 32,
   "id": "b919dcec44235c18",
   "metadata": {
    "ExecuteTime": {
     "end_time": "2024-04-04T12:13:18.725274400Z",
     "start_time": "2024-04-04T12:13:18.528922300Z"
    },
    "collapsed": false
   },
   "outputs": [
    {
     "data": {
      "text/plain": [
       "33.333333333333336"
      ]
     },
     "execution_count": 32,
     "metadata": {},
     "output_type": "execute_result"
    }
   ],
   "source": [
    "def predict(model, val_loader):\n",
    "    model.eval()\n",
    "    correct = 0\n",
    "\n",
    "    with torch.no_grad():\n",
    "        for image, label in val_loader:\n",
    "            image = image.to(DEVICE)\n",
    "            label = label.to(DEVICE)\n",
    "            label = label.float()\n",
    "            output = model(image)\n",
    "            # print(output.max(1, keepdim = True))\n",
    "            # prediction = output.round()  # 이진 분류에서는 반올림하여 0 또는 1로 변환\n",
    "            prediction = output.max(1, keepdim = True)[1]\n",
    "            correct += prediction.eq(label.view_as(prediction)).sum().item()\n",
    "    \n",
    "    test_accuracy = 100. * correct / len(val_loader.dataset)\n",
    "    return test_accuracy\n",
    "\n",
    "predict(classification_model, test_loader)"
   ]
  },
  {
   "cell_type": "code",
   "execution_count": 22,
   "id": "84d4a6239ba3c9c7",
   "metadata": {
    "ExecuteTime": {
     "end_time": "2024-04-05T04:45:40.980878100Z",
     "start_time": "2024-04-05T04:45:40.720104100Z"
    },
    "collapsed": false
   },
   "outputs": [],
   "source": [
    "# torch.save(classification_model.state_dict(), 'classification_model.pth/')"
   ]
  },
  {
   "cell_type": "code",
   "execution_count": null,
   "id": "42176a7feb3b07a2",
   "metadata": {
    "ExecuteTime": {
     "end_time": "2024-04-04T12:13:18.759629500Z",
     "start_time": "2024-04-04T12:13:18.744592600Z"
    },
    "collapsed": false
   },
   "outputs": [],
   "source": []
  }
 ],
 "metadata": {
  "kernelspec": {
   "display_name": "Python 3",
   "language": "python",
   "name": "python3"
  },
  "language_info": {
   "codemirror_mode": {
    "name": "ipython",
    "version": 3
   },
   "file_extension": ".py",
   "mimetype": "text/x-python",
   "name": "python",
   "nbconvert_exporter": "python",
   "pygments_lexer": "ipython3",
   "version": "3.8.19"
  }
 },
 "nbformat": 4,
 "nbformat_minor": 5
}
