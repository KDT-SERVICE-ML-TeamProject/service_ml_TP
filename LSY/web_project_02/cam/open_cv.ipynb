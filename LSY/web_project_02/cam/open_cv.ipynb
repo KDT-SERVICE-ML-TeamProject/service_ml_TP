{
 "cells": [
  {
   "cell_type": "code",
   "id": "c949aad3f5270902",
   "metadata": {
    "ExecuteTime": {
     "end_time": "2024-04-14T14:15:29.588425Z",
     "start_time": "2024-04-14T14:15:29.575522Z"
    }
   },
   "source": [
    "import cv2\n",
    "import time\n",
    "import sys\n",
    "import numpy as np"
   ],
   "outputs": [],
   "execution_count": 9
  },
  {
   "cell_type": "markdown",
   "id": "1e07d4ff34a0b6b7",
   "metadata": {},
   "source": [
    "# cctv 웹캠용\n",
    "- 얼굴인식\n",
    "- q 눌러야 종료 및 저장"
   ]
  },
  {
   "cell_type": "code",
   "id": "d091a0f9a4ccb929",
   "metadata": {
    "ExecuteTime": {
     "end_time": "2024-04-14T14:15:34.105877Z",
     "start_time": "2024-04-14T14:15:29.590812Z"
    }
   },
   "source": [
    "# 2. cctv 웹캠용\n",
    "\n",
    "sign = True\n",
    "\n",
    "frontalface_model = './haarcascades/haarcascade_frontalface_alt.xml'\n",
    "face_detector = cv2.CascadeClassifier(frontalface_model)\n",
    "camera = cv2.VideoCapture(0)\n",
    "\n",
    "if not camera.isOpened():\n",
    "    print(\"비디오 파일을 열 수 없습니다.\")\n",
    "    exit()\n",
    "    \n",
    "while sign:\n",
    "    # 비디오 프레임 읽기\n",
    "    ret, frame = camera.read()\n",
    "    if not ret:\n",
    "        print(\"비디오 프레임을 읽을 수 없습니다.\")\n",
    "        break\n",
    "\n",
    "    # 얼굴 검출\n",
    "    face_detections = face_detector.detectMultiScale(frame)\n",
    "    \n",
    "    # 검출된 얼굴에 사각형 그리기\n",
    "    for (x, y, w, h) in face_detections:\n",
    "        cv2.rectangle(frame, (x, y), (x+w, y+h), (0, 255, 0), 2)\n",
    "        cropped = frame[y - int(h/4):y + h + int(h/4), x - int(w/4):x + w + int(w/4)]\n",
    "\n",
    "    # 프레임 화면에 표시\n",
    "    cv2.imshow('Face Detection', cropped) \n",
    "\n",
    "    # 'q' 키를 누르면 종료\n",
    "    if cv2.waitKey(1) & 0xFF == ord('q'):\n",
    "        # 얼굴이 검출되면 프레임을 jpg 파일로 저장\n",
    "        if len(face_detections) > 0:\n",
    "            timestamp = time.strftime(\"%Y%m%d_%H%M%S\")\n",
    "            filename = f\"selfie_{timestamp}.jpg\"\n",
    "            cv2.imwrite(filename, cropped)\n",
    "            print(f\"얼굴이 검출되었습니다. '{filename}'로 저장되었습니다.\")\n",
    "            break\n",
    "    \n",
    "\n",
    "# 리소스 해제\n",
    "camera.release()\n",
    "cv2.destroyAllWindows()"
   ],
   "outputs": [
    {
     "ename": "NameError",
     "evalue": "name 'cropped' is not defined",
     "output_type": "error",
     "traceback": [
      "\u001B[1;31m---------------------------------------------------------------------------\u001B[0m",
      "\u001B[1;31mNameError\u001B[0m                                 Traceback (most recent call last)",
      "Cell \u001B[1;32mIn[10], line 29\u001B[0m\n\u001B[0;32m     26\u001B[0m     cropped \u001B[38;5;241m=\u001B[39m frame[y \u001B[38;5;241m-\u001B[39m \u001B[38;5;28mint\u001B[39m(h\u001B[38;5;241m/\u001B[39m\u001B[38;5;241m4\u001B[39m):y \u001B[38;5;241m+\u001B[39m h \u001B[38;5;241m+\u001B[39m \u001B[38;5;28mint\u001B[39m(h\u001B[38;5;241m/\u001B[39m\u001B[38;5;241m4\u001B[39m), x \u001B[38;5;241m-\u001B[39m \u001B[38;5;28mint\u001B[39m(w\u001B[38;5;241m/\u001B[39m\u001B[38;5;241m4\u001B[39m):x \u001B[38;5;241m+\u001B[39m w \u001B[38;5;241m+\u001B[39m \u001B[38;5;28mint\u001B[39m(w\u001B[38;5;241m/\u001B[39m\u001B[38;5;241m4\u001B[39m)]\n\u001B[0;32m     28\u001B[0m \u001B[38;5;66;03m# 프레임 화면에 표시\u001B[39;00m\n\u001B[1;32m---> 29\u001B[0m cv2\u001B[38;5;241m.\u001B[39mimshow(\u001B[38;5;124m'\u001B[39m\u001B[38;5;124mFace Detection\u001B[39m\u001B[38;5;124m'\u001B[39m, \u001B[43mcropped\u001B[49m) \n\u001B[0;32m     31\u001B[0m \u001B[38;5;66;03m# 'q' 키를 누르면 종료\u001B[39;00m\n\u001B[0;32m     32\u001B[0m \u001B[38;5;28;01mif\u001B[39;00m cv2\u001B[38;5;241m.\u001B[39mwaitKey(\u001B[38;5;241m1\u001B[39m) \u001B[38;5;241m&\u001B[39m \u001B[38;5;241m0xFF\u001B[39m \u001B[38;5;241m==\u001B[39m \u001B[38;5;28mord\u001B[39m(\u001B[38;5;124m'\u001B[39m\u001B[38;5;124mq\u001B[39m\u001B[38;5;124m'\u001B[39m):\n\u001B[0;32m     33\u001B[0m     \u001B[38;5;66;03m# 얼굴이 검출되면 프레임을 jpg 파일로 저장\u001B[39;00m\n",
      "\u001B[1;31mNameError\u001B[0m: name 'cropped' is not defined"
     ]
    }
   ],
   "execution_count": 10
  },
  {
   "cell_type": "markdown",
   "id": "1edf84656e429e3d",
   "metadata": {},
   "source": [
    "# 사진용\n",
    "- 사진에서 얼굴 인식"
   ]
  },
  {
   "cell_type": "code",
   "id": "f3adc073",
   "metadata": {
    "ExecuteTime": {
     "end_time": "2024-04-14T14:15:34.107814Z",
     "start_time": "2024-04-14T14:15:34.107814Z"
    }
   },
   "source": [
    "# frontalface_model = './haarcascades/haarcascade_frontalface_alt.xml'\n",
    "# face_detector = cv2.CascadeClassifier(frontalface_model)\n",
    "# \n",
    "# file = 'yoonseo.jpg'\n",
    "# img = cv2.imread(file)\n",
    "# print(type(img))\n",
    "# \n",
    "#  # 얼굴 검출\n",
    "# face_detections = face_detector.detectMultiScale(img)\n",
    "# \n",
    "# # 검출된 얼굴에 사각형 그리기\n",
    "# for (x, y, w, h) in face_detections:\n",
    "#     cv2.rectangle(img, (x, y), (x+w, y+h), (0, 255, 0), 2)\n",
    "#     cropped = img[y - int(h/4):y + h + int(h/4), x - int(w/4):x + w + int(w/4)]\n",
    "# \n",
    "# \n",
    "# # 이미지 화면에 표시\n",
    "# cv2.imshow('Face Detection', img) \n",
    "# \n",
    "# # 얼굴이 검출되면 프레임을 jpg 파일로 저장\n",
    "# if len(face_detections) > 0:\n",
    "#     timestamp = time.strftime(\"%Y%m%d_%H%M%S\")\n",
    "#     filename = f\"saved_pic_{timestamp}.jpg\"\n",
    "#     cv2.imwrite(filename, cropped)\n",
    "#     print(f\"얼굴이 검출되었습니다. '{filename}'로 저장되었습니다.\")\n",
    "# \n",
    "# # 리소스 해제\n",
    "# cv2.destroyAllWindows()"
   ],
   "outputs": [],
   "execution_count": null
  },
  {
   "cell_type": "code",
   "id": "6b22a51d0baaf816",
   "metadata": {},
   "source": [
    "# frontalface_model = '../data/haarcascades/haarcascade_eye.xml'\n",
    "# avi_file = './big_buck.avi'\n",
    "# face_detector = cv2.CascadeClassifier(frontalface_model)\n",
    "# \n",
    "# #cap = cv2.VideoCapture(avi_file)\n",
    "# cap = cv2.VideoCapture(0) # 카메라 키기 \n",
    "# while True:\n",
    "#     ret, frame = cap.read()\n",
    "#     if ret:\n",
    "#         cv2.imshow('frame', frame)\n",
    "#         face_detections = face_detector.detectMultiScale(frame) # detectMultiScale(frame, scaleFactor=1.5, minNeighbors=5)\n",
    "#         for (x, y, w, h) in face_detections:\n",
    "#             cv2.rectangle(frame, (x, y), (x + w, y + h), (0, 255, 0), 2)\n",
    "#         cv2.imshow('frame', frame)\n",
    "#         cv2.waitKey(40)\n",
    "#     else:\n",
    "#         break\n",
    "#     \n",
    "# cap.release()\n",
    "# cv2.destroyAllWindows()"
   ],
   "outputs": [],
   "execution_count": null
  },
  {
   "cell_type": "markdown",
   "id": "a0535759d9415441",
   "metadata": {},
   "source": [
    "# 영상용"
   ]
  },
  {
   "cell_type": "code",
   "id": "301e9b3decc49174",
   "metadata": {},
   "source": [
    "# 1. 영상용\n",
    "\n",
    "# frontalface_model = '../data/haarcascades/haarcascade_frontalface_alt.xml'\n",
    "# video_file = '../data/video/1234.mp4'\n",
    "# \n",
    "# face_detector = cv2.CascadeClassifier(frontalface_model)\n",
    "# camera = cv2.VideoCapture(video_file)\n",
    "# \n",
    "# if not camera.isOpened():\n",
    "#     print(\"비디오 파일을 열 수 없습니다.\")\n",
    "#     exit()\n",
    "# \n",
    "# while True:\n",
    "#     # 비디오 프레임 읽기\n",
    "#     ret, frame = camera.read()\n",
    "# \n",
    "#     if not ret:\n",
    "#         print(\"비디오 프레임을 읽을 수 없습니다.\")\n",
    "#         break\n",
    "# \n",
    "#     # 얼굴 검출\n",
    "#     face_detections = face_detector.detectMultiScale(frame)\n",
    "# \n",
    "#     # 검출된 얼굴에 사각형 그리기\n",
    "#     for (x, y, w, h) in face_detections:\n",
    "#         cv2.rectangle(frame, (x, y), (x+w, y+h), (0, 255, 0), 2)\n",
    "# \n",
    "#     # 프레임 화면에 표시\n",
    "#     cv2.imshow('Face Detection', frame) \n",
    "# \n",
    "#     # 'q' 키를 누르면 종료\n",
    "#     if cv2.waitKey(1) & 0xFF == ord('q'):\n",
    "#         break\n",
    "# \n",
    "# # 리소스 해제\n",
    "# camera.release()\n",
    "# cv2.destroyAllWindows()"
   ],
   "outputs": [],
   "execution_count": null
  },
  {
   "cell_type": "code",
   "id": "ff47b7f17e35320b",
   "metadata": {},
   "source": [],
   "outputs": [],
   "execution_count": null
  }
 ],
 "metadata": {
  "kernelspec": {
   "display_name": "Python 3",
   "language": "python",
   "name": "python3"
  },
  "language_info": {
   "codemirror_mode": {
    "name": "ipython",
    "version": 3
   },
   "file_extension": ".py",
   "mimetype": "text/x-python",
   "name": "python",
   "nbconvert_exporter": "python",
   "pygments_lexer": "ipython3",
   "version": "3.8.19"
  }
 },
 "nbformat": 4,
 "nbformat_minor": 5
}
